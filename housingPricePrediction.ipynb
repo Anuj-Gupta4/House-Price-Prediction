{
 "cells": [
  {
   "cell_type": "code",
   "execution_count": 61,
   "metadata": {},
   "outputs": [
    {
     "name": "stdout",
     "output_type": "stream",
     "text": [
      "The tensorboard extension is already loaded. To reload it, use:\n",
      "  %reload_ext tensorboard\n"
     ]
    }
   ],
   "source": [
    "import pandas as pd\n",
    "import numpy as np\n",
    "import matplotlib.pyplot as plt\n",
    "import seaborn as sns\n",
    "import re\n",
    "import warnings\n",
    "from datetime import datetime\n",
    "import tensorflow as tf\n",
    "\n",
    "warnings.filterwarnings(\"ignore\")\n",
    "%load_ext tensorboard"
   ]
  },
  {
   "cell_type": "code",
   "execution_count": 165,
   "metadata": {},
   "outputs": [],
   "source": [
    "# for tracking\n",
    "from tensorflow.keras.callbacks import TensorBoard\n"
   ]
  },
  {
   "cell_type": "code",
   "execution_count": 62,
   "metadata": {},
   "outputs": [
    {
     "data": {
      "text/html": [
       "<div>\n",
       "<style scoped>\n",
       "    .dataframe tbody tr th:only-of-type {\n",
       "        vertical-align: middle;\n",
       "    }\n",
       "\n",
       "    .dataframe tbody tr th {\n",
       "        vertical-align: top;\n",
       "    }\n",
       "\n",
       "    .dataframe thead th {\n",
       "        text-align: right;\n",
       "    }\n",
       "</style>\n",
       "<table border=\"1\" class=\"dataframe\">\n",
       "  <thead>\n",
       "    <tr style=\"text-align: right;\">\n",
       "      <th></th>\n",
       "      <th>Title</th>\n",
       "      <th>Address</th>\n",
       "      <th>City</th>\n",
       "      <th>Price</th>\n",
       "      <th>Bedroom</th>\n",
       "      <th>Bathroom</th>\n",
       "      <th>Floors</th>\n",
       "      <th>Parking</th>\n",
       "      <th>Face</th>\n",
       "      <th>Year</th>\n",
       "      <th>Views</th>\n",
       "      <th>Area</th>\n",
       "      <th>Road</th>\n",
       "      <th>Road Width</th>\n",
       "      <th>Road Type</th>\n",
       "      <th>Build Area</th>\n",
       "      <th>Posted</th>\n",
       "      <th>Amenities</th>\n",
       "    </tr>\n",
       "  </thead>\n",
       "  <tbody>\n",
       "    <tr>\n",
       "      <th>0</th>\n",
       "      <td>Flat System House On Sale At Budhanikantha : H...</td>\n",
       "      <td>Budhanikantha, Budhanilkantha, Kathmandu</td>\n",
       "      <td>Kathmandu</td>\n",
       "      <td>90000000</td>\n",
       "      <td>6</td>\n",
       "      <td>3</td>\n",
       "      <td>2.0</td>\n",
       "      <td>10</td>\n",
       "      <td>West</td>\n",
       "      <td>2073.0</td>\n",
       "      <td>17</td>\n",
       "      <td>1-0-0-0 Aana</td>\n",
       "      <td>20 Feet / Blacktopped</td>\n",
       "      <td>20 Feet</td>\n",
       "      <td>Blacktopped</td>\n",
       "      <td>18-0-0-0 Aana</td>\n",
       "      <td>11 hours ago</td>\n",
       "      <td>['Parking', 'Lawn', 'Garage', 'Frontyard', 'Fe...</td>\n",
       "    </tr>\n",
       "    <tr>\n",
       "      <th>1</th>\n",
       "      <td>21 Aana Beautiful House : House For Sale In Bu...</td>\n",
       "      <td>Pasikot, Budhanilkantha, Kathmandu</td>\n",
       "      <td>Kathmandu</td>\n",
       "      <td>80000000</td>\n",
       "      <td>5</td>\n",
       "      <td>3</td>\n",
       "      <td>2.0</td>\n",
       "      <td>9</td>\n",
       "      <td>East</td>\n",
       "      <td>2073.0</td>\n",
       "      <td>26</td>\n",
       "      <td>0-21-0-0 Aana</td>\n",
       "      <td>20 Feet / Blacktopped</td>\n",
       "      <td>20 Feet</td>\n",
       "      <td>Blacktopped</td>\n",
       "      <td>0-14-0-0 Aana</td>\n",
       "      <td>12 hours ago</td>\n",
       "      <td>['Parking', 'Garage', 'Fencing', 'Frontyard', ...</td>\n",
       "    </tr>\n",
       "    <tr>\n",
       "      <th>2</th>\n",
       "      <td>Beautiful To Floor House : House For Sale In D...</td>\n",
       "      <td>Dhapasi, Dhapasi, Kathmandu</td>\n",
       "      <td>Kathmandu</td>\n",
       "      <td>70000000</td>\n",
       "      <td>5</td>\n",
       "      <td>3</td>\n",
       "      <td>2.0</td>\n",
       "      <td>12</td>\n",
       "      <td>East</td>\n",
       "      <td>2071.0</td>\n",
       "      <td>154</td>\n",
       "      <td>1-1-0-0 Aana</td>\n",
       "      <td>20 Feet / Blacktopped</td>\n",
       "      <td>20 Feet</td>\n",
       "      <td>Blacktopped</td>\n",
       "      <td>10-1-0-0 Aana</td>\n",
       "      <td>2 days ago</td>\n",
       "      <td>['Parking', 'Lawn', 'Garage', 'Frontyard', 'Fe...</td>\n",
       "    </tr>\n",
       "    <tr>\n",
       "      <th>3</th>\n",
       "      <td>Modern Architecture Bungalow House : House For...</td>\n",
       "      <td>baluwatar, Baluwatar, Kathmandu</td>\n",
       "      <td>Kathmandu</td>\n",
       "      <td>130000000</td>\n",
       "      <td>6</td>\n",
       "      <td>4</td>\n",
       "      <td>3.0</td>\n",
       "      <td>9</td>\n",
       "      <td>West</td>\n",
       "      <td>2017.0</td>\n",
       "      <td>17</td>\n",
       "      <td>0-10-1-0 Aana</td>\n",
       "      <td>20 Feet / Blacktopped</td>\n",
       "      <td>20 Feet</td>\n",
       "      <td>Blacktopped</td>\n",
       "      <td>0-7-1-0 Aana</td>\n",
       "      <td>1 day ago</td>\n",
       "      <td>['Parking', 'Lawn', 'Garage', 'Frontyard', 'Fe...</td>\n",
       "    </tr>\n",
       "    <tr>\n",
       "      <th>4</th>\n",
       "      <td>Modern Bungalow House : House For Sale In Golf...</td>\n",
       "      <td>Golfutar, Golfutar, Kathmandu</td>\n",
       "      <td>Kathmandu</td>\n",
       "      <td>100000000</td>\n",
       "      <td>6</td>\n",
       "      <td>3</td>\n",
       "      <td>2.0</td>\n",
       "      <td>10</td>\n",
       "      <td>East</td>\n",
       "      <td>2070.0</td>\n",
       "      <td>59</td>\n",
       "      <td>0-19-2-0 Aana</td>\n",
       "      <td>20 Feet / Blacktopped</td>\n",
       "      <td>20 Feet</td>\n",
       "      <td>Blacktopped</td>\n",
       "      <td>0-14-2-0 Aana</td>\n",
       "      <td>2 days ago</td>\n",
       "      <td>['Parking', 'Lawn', 'Garage', 'Balcony', 'Back...</td>\n",
       "    </tr>\n",
       "  </tbody>\n",
       "</table>\n",
       "</div>"
      ],
      "text/plain": [
       "                                               Title  \\\n",
       "0  Flat System House On Sale At Budhanikantha : H...   \n",
       "1  21 Aana Beautiful House : House For Sale In Bu...   \n",
       "2  Beautiful To Floor House : House For Sale In D...   \n",
       "3  Modern Architecture Bungalow House : House For...   \n",
       "4  Modern Bungalow House : House For Sale In Golf...   \n",
       "\n",
       "                                    Address       City      Price  Bedroom  \\\n",
       "0  Budhanikantha, Budhanilkantha, Kathmandu  Kathmandu   90000000        6   \n",
       "1        Pasikot, Budhanilkantha, Kathmandu  Kathmandu   80000000        5   \n",
       "2               Dhapasi, Dhapasi, Kathmandu  Kathmandu   70000000        5   \n",
       "3           baluwatar, Baluwatar, Kathmandu  Kathmandu  130000000        6   \n",
       "4             Golfutar, Golfutar, Kathmandu  Kathmandu  100000000        6   \n",
       "\n",
       "   Bathroom  Floors  Parking  Face    Year Views           Area  \\\n",
       "0         3     2.0       10  West  2073.0    17   1-0-0-0 Aana   \n",
       "1         3     2.0        9  East  2073.0    26  0-21-0-0 Aana   \n",
       "2         3     2.0       12  East  2071.0   154   1-1-0-0 Aana   \n",
       "3         4     3.0        9  West  2017.0    17  0-10-1-0 Aana   \n",
       "4         3     2.0       10  East  2070.0    59  0-19-2-0 Aana   \n",
       "\n",
       "                    Road Road Width     Road Type     Build Area  \\\n",
       "0  20 Feet / Blacktopped   20 Feet    Blacktopped  18-0-0-0 Aana   \n",
       "1  20 Feet / Blacktopped   20 Feet    Blacktopped  0-14-0-0 Aana   \n",
       "2  20 Feet / Blacktopped   20 Feet    Blacktopped  10-1-0-0 Aana   \n",
       "3  20 Feet / Blacktopped   20 Feet    Blacktopped   0-7-1-0 Aana   \n",
       "4  20 Feet / Blacktopped   20 Feet    Blacktopped  0-14-2-0 Aana   \n",
       "\n",
       "         Posted                                          Amenities  \n",
       "0  11 hours ago  ['Parking', 'Lawn', 'Garage', 'Frontyard', 'Fe...  \n",
       "1  12 hours ago  ['Parking', 'Garage', 'Fencing', 'Frontyard', ...  \n",
       "2    2 days ago  ['Parking', 'Lawn', 'Garage', 'Frontyard', 'Fe...  \n",
       "3     1 day ago  ['Parking', 'Lawn', 'Garage', 'Frontyard', 'Fe...  \n",
       "4    2 days ago  ['Parking', 'Lawn', 'Garage', 'Balcony', 'Back...  "
      ]
     },
     "execution_count": 62,
     "metadata": {},
     "output_type": "execute_result"
    }
   ],
   "source": [
    "df = pd.read_csv('2020-4-27.csv')\n",
    "df.head()"
   ]
  },
  {
   "cell_type": "code",
   "execution_count": 63,
   "metadata": {},
   "outputs": [
    {
     "name": "stdout",
     "output_type": "stream",
     "text": [
      "<class 'pandas.core.frame.DataFrame'>\n",
      "RangeIndex: 2209 entries, 0 to 2208\n",
      "Data columns (total 18 columns):\n",
      " #   Column      Non-Null Count  Dtype  \n",
      "---  ------      --------------  -----  \n",
      " 0   Title       2209 non-null   object \n",
      " 1   Address     2209 non-null   object \n",
      " 2   City        2209 non-null   object \n",
      " 3   Price       2209 non-null   int64  \n",
      " 4   Bedroom     2209 non-null   int64  \n",
      " 5   Bathroom    2209 non-null   int64  \n",
      " 6   Floors      1038 non-null   float64\n",
      " 7   Parking     2209 non-null   int64  \n",
      " 8   Face        2209 non-null   object \n",
      " 9   Year        582 non-null    float64\n",
      " 10  Views       2209 non-null   object \n",
      " 11  Area        2209 non-null   object \n",
      " 12  Road        2209 non-null   object \n",
      " 13  Road Width  2209 non-null   object \n",
      " 14  Road Type   1424 non-null   object \n",
      " 15  Build Area  2209 non-null   object \n",
      " 16  Posted      2209 non-null   object \n",
      " 17  Amenities   2209 non-null   object \n",
      "dtypes: float64(2), int64(4), object(12)\n",
      "memory usage: 310.8+ KB\n"
     ]
    }
   ],
   "source": [
    "df.info()"
   ]
  },
  {
   "attachments": {},
   "cell_type": "markdown",
   "metadata": {},
   "source": [
    "## Data Cleaning"
   ]
  },
  {
   "cell_type": "code",
   "execution_count": 64,
   "metadata": {},
   "outputs": [
    {
     "data": {
      "text/plain": [
       "Title            0\n",
       "Address          0\n",
       "City             0\n",
       "Price            0\n",
       "Bedroom          0\n",
       "Bathroom         0\n",
       "Floors        1171\n",
       "Parking          0\n",
       "Face             0\n",
       "Year          1627\n",
       "Views            0\n",
       "Area             0\n",
       "Road             0\n",
       "Road Width       0\n",
       "Road Type      785\n",
       "Build Area       0\n",
       "Posted           0\n",
       "Amenities        0\n",
       "dtype: int64"
      ]
     },
     "execution_count": 64,
     "metadata": {},
     "output_type": "execute_result"
    }
   ],
   "source": [
    "null_counts = df.isnull().sum()\n",
    "null_counts"
   ]
  },
  {
   "cell_type": "code",
   "execution_count": 65,
   "metadata": {},
   "outputs": [
    {
     "name": "stdout",
     "output_type": "stream",
     "text": [
      "Area             0\n",
      "Build Area    1770\n",
      "dtype: int64\n"
     ]
    }
   ],
   "source": [
    "# calulate number of missing values for area and build area\n",
    "def count_na_values(column):\n",
    "    count = 0\n",
    "    for value in column:\n",
    "        if \"N/A\" in str(value):\n",
    "            count += 1\n",
    "    return count\n",
    "na_counts = df[['Area','Build Area']].apply(count_na_values)\n",
    "print(na_counts)"
   ]
  },
  {
   "attachments": {},
   "cell_type": "markdown",
   "metadata": {},
   "source": [
    "### Columns not used:\n",
    "- title\n",
    "- floors : 1172 out of 2209 values missing\n",
    "- year : 1629 out of 2209 values missing\n",
    "- road : dependent on road width and road type\n",
    "- build area : 1772 out of 2209 values missing\n",
    "- posted\n",
    "- amenities: 1067 out of 2209 values missing"
   ]
  },
  {
   "cell_type": "code",
   "execution_count": 66,
   "metadata": {},
   "outputs": [],
   "source": [
    "sel_cols = ['Address','City','Bedroom','Bathroom','Parking','Face','Views','Area','Road Width','Road Type']\n",
    "X = df[sel_cols].copy()\n",
    "y = df['Price']\n",
    "# print(X.tail())\n",
    "# print(y)"
   ]
  },
  {
   "cell_type": "code",
   "execution_count": 67,
   "metadata": {},
   "outputs": [],
   "source": [
    "# keep the middle values of the address columns only\n",
    "X['Address'] = X['Address'].str.split(',').str[1]\n",
    "# print(X['Address'])"
   ]
  },
  {
   "cell_type": "code",
   "execution_count": 68,
   "metadata": {},
   "outputs": [],
   "source": [
    "#convert views like 1k to 1000\n",
    "def convert_views_to_numeric(value):\n",
    "    if 'K' in value:\n",
    "        return float(value.replace('K', '')) * 1000\n",
    "    else:\n",
    "        return float(value)\n",
    "\n",
    "X['Views'] = X['Views'].apply(convert_views_to_numeric)\n",
    "# print(X['Views'])"
   ]
  },
  {
   "cell_type": "code",
   "execution_count": 69,
   "metadata": {},
   "outputs": [],
   "source": [
    "#convert all areas to squre feet\n",
    "def remove_chars(value):\n",
    "    pattern = r'[-./,+]' # matches any of the characters '-', '.', '/', ',', '+'\n",
    "    return re.sub(pattern, '', value)\n",
    "\n",
    "def convert_to_square_feet(value):\n",
    "    # print(value)\n",
    "    value = remove_chars(value)\n",
    "    if 'Aana' in value:\n",
    "        return float(value.replace('Aana', '')) * 342.25      \n",
    "    elif 'Ropani' in value:\n",
    "        return float(value.replace('Ropani', '')) * 5476\n",
    "    elif 'ropani aana' in value:\n",
    "        return float(value.replace('ropani', '')) * 5476\n",
    "    elif 'Kattha' in value:\n",
    "        return float(value.replace('Kattha', '')) * 3645\n",
    "    elif 'Dhur' in value:\n",
    "        return float(value.replace('Dhur', '')) * 182.25\n",
    "    elif 'Sq. Feet' in value:\n",
    "        return float(value.replace('Sq. Feet', ''))\n",
    "    else:\n",
    "        return None\n",
    "\n",
    "X['Area'] = X['Area'].apply(convert_to_square_feet)\n",
    "X['Area'].fillna(X['Area'].mode()[0], inplace=True)\n",
    "# TODO\n",
    "# PREDICT THE AREA AND FILL NA\n",
    "# print(X['Area'])"
   ]
  },
  {
   "cell_type": "code",
   "execution_count": 70,
   "metadata": {},
   "outputs": [],
   "source": [
    "# convert road widht to int\n",
    "def remove_unit(value):\n",
    "    if 'Meter' in value:\n",
    "        return float(value.replace('Meter','')) * 3.28084\n",
    "    else:\n",
    "        return float(value.replace('Feet',''))\n",
    "    \n",
    "X['Road Width'] = X['Road Width'].apply(remove_unit)"
   ]
  },
  {
   "cell_type": "code",
   "execution_count": 71,
   "metadata": {},
   "outputs": [
    {
     "data": {
      "text/html": [
       "<div>\n",
       "<style scoped>\n",
       "    .dataframe tbody tr th:only-of-type {\n",
       "        vertical-align: middle;\n",
       "    }\n",
       "\n",
       "    .dataframe tbody tr th {\n",
       "        vertical-align: top;\n",
       "    }\n",
       "\n",
       "    .dataframe thead th {\n",
       "        text-align: right;\n",
       "    }\n",
       "</style>\n",
       "<table border=\"1\" class=\"dataframe\">\n",
       "  <thead>\n",
       "    <tr style=\"text-align: right;\">\n",
       "      <th></th>\n",
       "      <th>Address</th>\n",
       "      <th>City</th>\n",
       "      <th>Bedroom</th>\n",
       "      <th>Bathroom</th>\n",
       "      <th>Parking</th>\n",
       "      <th>Face</th>\n",
       "      <th>Views</th>\n",
       "      <th>Area</th>\n",
       "      <th>Road Width</th>\n",
       "      <th>Road Type</th>\n",
       "    </tr>\n",
       "  </thead>\n",
       "  <tbody>\n",
       "    <tr>\n",
       "      <th>0</th>\n",
       "      <td>Budhanilkantha</td>\n",
       "      <td>Kathmandu</td>\n",
       "      <td>6</td>\n",
       "      <td>3</td>\n",
       "      <td>10</td>\n",
       "      <td>West</td>\n",
       "      <td>17.0</td>\n",
       "      <td>342250.0</td>\n",
       "      <td>20.0</td>\n",
       "      <td>Blacktopped</td>\n",
       "    </tr>\n",
       "    <tr>\n",
       "      <th>1</th>\n",
       "      <td>Budhanilkantha</td>\n",
       "      <td>Kathmandu</td>\n",
       "      <td>5</td>\n",
       "      <td>3</td>\n",
       "      <td>9</td>\n",
       "      <td>East</td>\n",
       "      <td>26.0</td>\n",
       "      <td>718725.0</td>\n",
       "      <td>20.0</td>\n",
       "      <td>Blacktopped</td>\n",
       "    </tr>\n",
       "    <tr>\n",
       "      <th>2</th>\n",
       "      <td>Dhapasi</td>\n",
       "      <td>Kathmandu</td>\n",
       "      <td>5</td>\n",
       "      <td>3</td>\n",
       "      <td>12</td>\n",
       "      <td>East</td>\n",
       "      <td>154.0</td>\n",
       "      <td>376475.0</td>\n",
       "      <td>20.0</td>\n",
       "      <td>Blacktopped</td>\n",
       "    </tr>\n",
       "    <tr>\n",
       "      <th>3</th>\n",
       "      <td>Baluwatar</td>\n",
       "      <td>Kathmandu</td>\n",
       "      <td>6</td>\n",
       "      <td>4</td>\n",
       "      <td>9</td>\n",
       "      <td>West</td>\n",
       "      <td>17.0</td>\n",
       "      <td>345672.5</td>\n",
       "      <td>20.0</td>\n",
       "      <td>Blacktopped</td>\n",
       "    </tr>\n",
       "    <tr>\n",
       "      <th>4</th>\n",
       "      <td>Golfutar</td>\n",
       "      <td>Kathmandu</td>\n",
       "      <td>6</td>\n",
       "      <td>3</td>\n",
       "      <td>10</td>\n",
       "      <td>East</td>\n",
       "      <td>59.0</td>\n",
       "      <td>657120.0</td>\n",
       "      <td>20.0</td>\n",
       "      <td>Blacktopped</td>\n",
       "    </tr>\n",
       "  </tbody>\n",
       "</table>\n",
       "</div>"
      ],
      "text/plain": [
       "           Address       City  Bedroom  Bathroom  Parking  Face  Views  \\\n",
       "0   Budhanilkantha  Kathmandu        6         3       10  West   17.0   \n",
       "1   Budhanilkantha  Kathmandu        5         3        9  East   26.0   \n",
       "2          Dhapasi  Kathmandu        5         3       12  East  154.0   \n",
       "3        Baluwatar  Kathmandu        6         4        9  West   17.0   \n",
       "4         Golfutar  Kathmandu        6         3       10  East   59.0   \n",
       "\n",
       "       Area  Road Width     Road Type  \n",
       "0  342250.0        20.0   Blacktopped  \n",
       "1  718725.0        20.0   Blacktopped  \n",
       "2  376475.0        20.0   Blacktopped  \n",
       "3  345672.5        20.0   Blacktopped  \n",
       "4  657120.0        20.0   Blacktopped  "
      ]
     },
     "execution_count": 71,
     "metadata": {},
     "output_type": "execute_result"
    }
   ],
   "source": [
    "X.head()"
   ]
  },
  {
   "cell_type": "code",
   "execution_count": 72,
   "metadata": {},
   "outputs": [],
   "source": [
    "X.to_csv('cleaned_by_ashok.csv')"
   ]
  },
  {
   "cell_type": "code",
   "execution_count": 176,
   "metadata": {},
   "outputs": [],
   "source": [
    "# leaving Address for now\n",
    "X_1 = X.drop('Address',axis=1)\n",
    "# X_1.info()"
   ]
  },
  {
   "attachments": {},
   "cell_type": "markdown",
   "metadata": {},
   "source": [
    "## One hot encoding and feature scaling"
   ]
  },
  {
   "cell_type": "code",
   "execution_count": 177,
   "metadata": {},
   "outputs": [],
   "source": [
    "# one hot encoding for city, face and road type\n",
    "from sklearn.preprocessing import OneHotEncoder\n",
    "\n",
    "obj_cols = ['City','Face','Road Type']\n",
    "X_encoded = pd.get_dummies(X_1,columns=obj_cols)\n",
    "# X_encoded.info()"
   ]
  },
  {
   "cell_type": "code",
   "execution_count": 178,
   "metadata": {},
   "outputs": [],
   "source": [
    "# standard data scaling\n",
    "from sklearn.preprocessing import StandardScaler\n",
    "\n",
    "X_scaled = StandardScaler().fit_transform(X_encoded)\n",
    "X_scaled = pd.DataFrame(X_scaled)\n",
    "# X_scaled.info()"
   ]
  },
  {
   "attachments": {},
   "cell_type": "markdown",
   "metadata": {},
   "source": [
    "## Data Visualization"
   ]
  },
  {
   "cell_type": "code",
   "execution_count": 179,
   "metadata": {},
   "outputs": [
    {
     "data": {
      "image/png": "[encoded data removed]",
      "text/plain": [
       "<Figure size 640x480 with 2 Axes>"
      ]
     },
     "metadata": {},
     "output_type": "display_data"
    }
   ],
   "source": [
    "# Calculate the correlation matrix\n",
    "corr_matrix = X_1.corr()\n",
    "\n",
    "# Visualize the correlation matrix using a heatmap\n",
    "sns.heatmap(corr_matrix, annot=True, cmap='coolwarm')\n",
    "plt.show()"
   ]
  },
  {
   "cell_type": "code",
   "execution_count": 180,
   "metadata": {},
   "outputs": [],
   "source": [
    "# # histogram plots\n",
    "# fig, axs = plt.subplots(X_1.shape[1], figsize=(5, 40))\n",
    "\n",
    "# for i, column in enumerate(X_1.columns):\n",
    "#     axs[i].hist(X_1[column])\n",
    "#     axs[i].set_title(column)\n",
    "\n",
    "# plt.show()"
   ]
  },
  {
   "cell_type": "code",
   "execution_count": 181,
   "metadata": {},
   "outputs": [],
   "source": [
    "# for col in X_1.columns:\n",
    "#     if X_1[col].dtype != object:  # plot only numeric columns\n",
    "#         fig, ax = plt.subplots()\n",
    "#         ax.boxplot(X_1[col])\n",
    "#         ax.set_title(col)\n",
    "#         plt.show()"
   ]
  },
  {
   "attachments": {},
   "cell_type": "markdown",
   "metadata": {},
   "source": [
    "## Training"
   ]
  },
  {
   "cell_type": "code",
   "execution_count": 182,
   "metadata": {},
   "outputs": [],
   "source": [
    "# train test split\n",
    "from sklearn.model_selection import train_test_split\n",
    "\n",
    "X_train, X_test, y_train, y_test = train_test_split(X_scaled,y,test_size=0.2,random_state=42)"
   ]
  },
  {
   "attachments": {},
   "cell_type": "markdown",
   "metadata": {},
   "source": [
    "### Linear Regression"
   ]
  },
  {
   "cell_type": "code",
   "execution_count": 183,
   "metadata": {},
   "outputs": [
    {
     "data": {
      "text/html": [
       "<style>#sk-container-id-7 {color: black;background-color: white;}#sk-container-id-7 pre{padding: 0;}#sk-container-id-7 div.sk-toggleable {background-color: white;}#sk-container-id-7 label.sk-toggleable__label {cursor: pointer;display: block;width: 100%;margin-bottom: 0;padding: 0.3em;box-sizing: border-box;text-align: center;}#sk-container-id-7 label.sk-toggleable__label-arrow:before {content: \"▸\";float: left;margin-right: 0.25em;color: #696969;}#sk-container-id-7 label.sk-toggleable__label-arrow:hover:before {color: black;}#sk-container-id-7 div.sk-estimator:hover label.sk-toggleable__label-arrow:before {color: black;}#sk-container-id-7 div.sk-toggleable__content {max-height: 0;max-width: 0;overflow: hidden;text-align: left;background-color: #f0f8ff;}#sk-container-id-7 div.sk-toggleable__content pre {margin: 0.2em;color: black;border-radius: 0.25em;background-color: #f0f8ff;}#sk-container-id-7 input.sk-toggleable__control:checked~div.sk-toggleable__content {max-height: 200px;max-width: 100%;overflow: auto;}#sk-container-id-7 input.sk-toggleable__control:checked~label.sk-toggleable__label-arrow:before {content: \"▾\";}#sk-container-id-7 div.sk-estimator input.sk-toggleable__control:checked~label.sk-toggleable__label {background-color: #d4ebff;}#sk-container-id-7 div.sk-label input.sk-toggleable__control:checked~label.sk-toggleable__label {background-color: #d4ebff;}#sk-container-id-7 input.sk-hidden--visually {border: 0;clip: rect(1px 1px 1px 1px);clip: rect(1px, 1px, 1px, 1px);height: 1px;margin: -1px;overflow: hidden;padding: 0;position: absolute;width: 1px;}#sk-container-id-7 div.sk-estimator {font-family: monospace;background-color: #f0f8ff;border: 1px dotted black;border-radius: 0.25em;box-sizing: border-box;margin-bottom: 0.5em;}#sk-container-id-7 div.sk-estimator:hover {background-color: #d4ebff;}#sk-container-id-7 div.sk-parallel-item::after {content: \"\";width: 100%;border-bottom: 1px solid gray;flex-grow: 1;}#sk-container-id-7 div.sk-label:hover label.sk-toggleable__label {background-color: #d4ebff;}#sk-container-id-7 div.sk-serial::before {content: \"\";position: absolute;border-left: 1px solid gray;box-sizing: border-box;top: 0;bottom: 0;left: 50%;z-index: 0;}#sk-container-id-7 div.sk-serial {display: flex;flex-direction: column;align-items: center;background-color: white;padding-right: 0.2em;padding-left: 0.2em;position: relative;}#sk-container-id-7 div.sk-item {position: relative;z-index: 1;}#sk-container-id-7 div.sk-parallel {display: flex;align-items: stretch;justify-content: center;background-color: white;position: relative;}#sk-container-id-7 div.sk-item::before, #sk-container-id-7 div.sk-parallel-item::before {content: \"\";position: absolute;border-left: 1px solid gray;box-sizing: border-box;top: 0;bottom: 0;left: 50%;z-index: -1;}#sk-container-id-7 div.sk-parallel-item {display: flex;flex-direction: column;z-index: 1;position: relative;background-color: white;}#sk-container-id-7 div.sk-parallel-item:first-child::after {align-self: flex-end;width: 50%;}#sk-container-id-7 div.sk-parallel-item:last-child::after {align-self: flex-start;width: 50%;}#sk-container-id-7 div.sk-parallel-item:only-child::after {width: 0;}#sk-container-id-7 div.sk-dashed-wrapped {border: 1px dashed gray;margin: 0 0.4em 0.5em 0.4em;box-sizing: border-box;padding-bottom: 0.4em;background-color: white;}#sk-container-id-7 div.sk-label label {font-family: monospace;font-weight: bold;display: inline-block;line-height: 1.2em;}#sk-container-id-7 div.sk-label-container {text-align: center;}#sk-container-id-7 div.sk-container {/* jupyter's `normalize.less` sets `[hidden] { display: none; }` but bootstrap.min.css set `[hidden] { display: none !important; }` so we also need the `!important` here to be able to override the default hidden behavior on the sphinx rendered scikit-learn.org. See: https://github.com/scikit-learn/scikit-learn/issues/21755 */display: inline-block !important;position: relative;}#sk-container-id-7 div.sk-text-repr-fallback {display: none;}</style><div id=\"sk-container-id-7\" class=\"sk-top-container\"><div class=\"sk-text-repr-fallback\"><pre>LinearRegression()</pre><b>In a Jupyter environment, please rerun this cell to show the HTML representation or trust the notebook. <br />On GitHub, the HTML representation is unable to render, please try loading this page with nbviewer.org.</b></div><div class=\"sk-container\" hidden><div class=\"sk-item\"><div class=\"sk-estimator sk-toggleable\"><input class=\"sk-toggleable__control sk-hidden--visually\" id=\"sk-estimator-id-7\" type=\"checkbox\" checked><label for=\"sk-estimator-id-7\" class=\"sk-toggleable__label sk-toggleable__label-arrow\">LinearRegression</label><div class=\"sk-toggleable__content\"><pre>LinearRegression()</pre></div></div></div></div></div>"
      ],
      "text/plain": [
       "LinearRegression()"
      ]
     },
     "execution_count": 183,
     "metadata": {},
     "output_type": "execute_result"
    }
   ],
   "source": [
    "from sklearn.linear_model import LinearRegression\n",
    "\n",
    "lin_reg_without_regu_model = LinearRegression()\n",
    "lin_reg_without_regu_model.fit(X_encoded, y)\n"
   ]
  },
  {
   "cell_type": "code",
   "execution_count": 184,
   "metadata": {},
   "outputs": [],
   "source": [
    "y_pred_train_lin_reg_without_regu = lin_reg_without_regu_model.predict(X_train)\n",
    "y_pred_test_lin_reg_without_regu = lin_reg_without_regu_model.predict(X_test)"
   ]
  },
  {
   "cell_type": "code",
   "execution_count": 185,
   "metadata": {},
   "outputs": [],
   "source": [
    "log_dir = \"logs/fit/\" + datetime.now().strftime(\"%Y%m%d-%H%M%S\")\n",
    "tensorboard_callback = TensorBoard(log_dir=log_dir, histogram_freq=1)"
   ]
  },
  {
   "cell_type": "code",
   "execution_count": 190,
   "metadata": {},
   "outputs": [
    {
     "name": "stdout",
     "output_type": "stream",
     "text": [
      "MSE for train set for linear regresson without regularization 1.1678054839919736e+26\n",
      "MSE for test set for linear regresson without regularization 7.0990216235640794e+25\n",
      "mae for train set for linear regresson without regularization 4422434888464.962\n",
      "mae for test set for linear regresson without regularization 4564725994640.712\n"
     ]
    }
   ],
   "source": [
    "\n",
    "from sklearn.metrics import mean_squared_error,mean_absolute_error\n",
    "\n",
    "mse_train_lin_reg_without_regu = mean_squared_error(y_pred_train_lin_reg_without_regu,y_train)\n",
    "mse_test_lin_reg_without_regu = mean_squared_error(y_pred_test_lin_reg_without_regu,y_test)\n",
    "print(f'MSE for train set for linear regresson without regularization {mse_train_lin_reg_without_regu}' )\n",
    "print(f'MSE for test set for linear regresson without regularization {mse_test_lin_reg_without_regu}')\n",
    "# Log metrics to TensorBoard\n",
    "with tf.summary.create_file_writer(log_dir).as_default():\n",
    "    tf.summary.scalar('Train MSE linear regression without regularization', mse_train_lin_reg_without_regu, step=1)\n",
    "    tf.summary.scalar('Test MSE linear regression without regularization', mse_test_lin_reg_without_regu, step=1)\n",
    "\n",
    "mae_train_lin_reg_without_regu = mean_absolute_error(y_pred_train_lin_reg_without_regu,y_train)\n",
    "mae_test_lin_reg_without_regu = mean_absolute_error(y_pred_test_lin_reg_without_regu,y_test)\n",
    "print(f'mae for train set for linear regresson without regularization {mae_train_lin_reg_without_regu}' )\n",
    "print(f'mae for test set for linear regresson without regularization {mae_test_lin_reg_without_regu}')\n",
    "# Log metrics to TensorBoard\n",
    "with tf.summary.create_file_writer(log_dir).as_default():\n",
    "    tf.summary.scalar('Train mae linear regression without regularization', mae_train_lin_reg_without_regu, step=1)\n",
    "    tf.summary.scalar('Test mae linear regression without regularization', mae_test_lin_reg_without_regu, step=1)"
   ]
  },
  {
   "attachments": {},
   "cell_type": "markdown",
   "metadata": {},
   "source": [
    "### Lasso Regression\n"
   ]
  },
  {
   "cell_type": "code",
   "execution_count": 192,
   "metadata": {},
   "outputs": [
    {
     "name": "stdout",
     "output_type": "stream",
     "text": [
      "Train MSE lasso: 6.996815817963528e+25\n",
      "Test MSE lasso: 2.183038477852152e+24\n"
     ]
    }
   ],
   "source": [
    "from sklearn.linear_model import Lasso\n",
    "\n",
    "lasso_model = Lasso(alpha=0.1)\n",
    "lasso_model.fit(X_train, y_train)\n",
    "\n",
    "y_pred_train_lasso = lasso_model.predict(X_train)\n",
    "y_pred_test_lasso = lasso_model.predict(X_test)\n",
    "mse_train_lasso = mean_squared_error(y_train, y_pred_train_lasso)\n",
    "mse_test_lasso = mean_squared_error(y_test, y_pred_test_lasso)\n",
    "print(f\"Train MSE lasso: {mse_train_lasso}\")\n",
    "print(f\"Test MSE lasso: {mse_test_lasso}\")"
   ]
  },
  {
   "attachments": {},
   "cell_type": "markdown",
   "metadata": {},
   "source": [
    "### XGBoost"
   ]
  },
  {
   "cell_type": "code",
   "execution_count": 195,
   "metadata": {},
   "outputs": [
    {
     "name": "stdout",
     "output_type": "stream",
     "text": [
      "MSE train xgb: 1.9114918755269185e+24\n",
      "MSE test xgb: 1.609143530809109e+25\n"
     ]
    }
   ],
   "source": [
    "import xgboost as xgb\n",
    "\n",
    "params = {\n",
    "    \"objective\": \"reg:squarederror\",\n",
    "    \"eta\": 0.1,\n",
    "    \"max_depth\": 6,\n",
    "    \"min_child_weight\": 1,\n",
    "    \"subsample\": 0.7,\n",
    "    \"colsample_bytree\": 0.7,\n",
    "    \"seed\": 42,\n",
    "}\n",
    "\n",
    "dtrain = xgb.DMatrix(X_train, label=y_train)\n",
    "dtest = xgb.DMatrix(X_test, label=y_test)\n",
    "\n",
    "xgb_model = xgb.train(params, dtrain, num_boost_round=100)\n",
    "\n",
    "y_pred_train_xgb = xgb_model.predict(dtrain)\n",
    "y_pred_test_xgb = xgb_model.predict(dtest)\n",
    "\n",
    "mse_train_xgb = mean_squared_error(y_train, y_pred_train_xgb)\n",
    "mse_test_xgb = mean_squared_error(y_test, y_pred_test_xgb)\n",
    "print(\"MSE train xgb:\", mse_train_xgb)\n",
    "print(\"MSE test xgb:\", mse_test_xgb)"
   ]
  },
  {
   "attachments": {},
   "cell_type": "markdown",
   "metadata": {},
   "source": [
    "### Decision Tree\n"
   ]
  },
  {
   "cell_type": "code",
   "execution_count": 197,
   "metadata": {},
   "outputs": [
    {
     "name": "stdout",
     "output_type": "stream",
     "text": [
      "MSE train dt: 121073323429.5416\n",
      "MSE test dt: 6.053675433624042e+25\n"
     ]
    }
   ],
   "source": [
    "from sklearn.tree import DecisionTreeRegressor\n",
    "\n",
    "dt_model =  DecisionTreeRegressor(random_state=42)\n",
    "dt_model.fit(X_train,y_train)\n",
    "\n",
    "\n",
    "y_pred_train_dt = dt_model.predict(X_train)\n",
    "y_pred_test_dt = dt_model.predict(X_test)\n",
    "\n",
    "mse_train_dt = mean_squared_error(y_train, y_pred_train_dt)\n",
    "mse_test_dt = mean_squared_error(y_test, y_pred_test_dt)\n",
    "print(\"MSE train dt:\", mse_train_dt)\n",
    "print(\"MSE test dt:\", mse_test_dt)"
   ]
  },
  {
   "attachments": {},
   "cell_type": "markdown",
   "metadata": {},
   "source": [
    "### SVM"
   ]
  },
  {
   "cell_type": "code",
   "execution_count": 189,
   "metadata": {},
   "outputs": [
    {
     "name": "stdout",
     "output_type": "stream",
     "text": [
      "Train MAE: 504318420575.99\n",
      "Test MAE: 16991715621.68\n",
      "Train mse: 71738037284470885485379584.00\n",
      "Test mse: 127262188424597321285632.00\n"
     ]
    }
   ],
   "source": [
    "from sklearn.svm import SVR\n",
    "\n",
    "svr_model = SVR(kernel=\"linear\")\n",
    "svr_model.fit(X_train, y_train)\n",
    "\n",
    "y_pred_train_svr = svr_model.predict(X_train)\n",
    "y_pred_test_svr = svr_model.predict(X_test)\n",
    "\n",
    "mae_train_svr = mean_absolute_error(y_train, y_pred_train_svr)\n",
    "mae_test_svr = mean_absolute_error(y_test, y_pred_test_svr)\n",
    "\n",
    "print(f\"Train MAE: {mae_train_svr:.2f}\")\n",
    "print(f\"Test MAE: {mae_test_svr:.2f}\")\n",
    "# Log metrics to TensorBoard\n",
    "with tf.summary.create_file_writer(log_dir).as_default():\n",
    "    tf.summary.scalar('MAE_train_svr', mae_train_svr, step=1)\n",
    "    tf.summary.scalar('MAE_test', mae_test_svr, step=1)\n",
    "\n",
    "mse_train_svr = mean_squared_error(y_train, y_pred_train_svr)\n",
    "mse_test_svr = mean_squared_error(y_test, y_pred_test_svr)\n",
    "\n",
    "print(f\"Train mse: {mse_train_svr:.2f}\")\n",
    "print(f\"Test mse: {mse_test_svr:.2f}\")\n",
    "# Log metrics to TensorBoard\n",
    "with tf.summary.create_file_writer(log_dir).as_default():\n",
    "    tf.summary.scalar('mse_train_svr', mse_train_svr, step=1)\n",
    "    tf.summary.scalar('mse_test', mse_test_svr, step=1)\n"
   ]
  },
  {
   "cell_type": "code",
   "execution_count": 199,
   "metadata": {},
   "outputs": [
    {
     "name": "stdout",
     "output_type": "stream",
     "text": [
      "Train MAE: 504318420950.70\n",
      "Test MAE: 16991716207.41\n",
      "Train mse: 71738037284480403132907520.00\n",
      "Test mse: 127262188370372000219136.00\n"
     ]
    }
   ],
   "source": [
    "# svr_model = SVR(kernel=\"poly\")\n",
    "# svr_model.fit(X_train, y_train)\n",
    "\n",
    "# y_pred_train_svr = svr_model.predict(X_train)\n",
    "# y_pred_test_svr = svr_model.predict(X_test)\n",
    "\n",
    "# mae_train_svr = mean_absolute_error(y_train, y_pred_train_svr)\n",
    "# mae_test_svr = mean_absolute_error(y_test, y_pred_test_svr)\n",
    "\n",
    "# print(f\"Train MAE: {mae_train_svr:.2f}\")\n",
    "# print(f\"Test MAE: {mae_test_svr:.2f}\")\n",
    "# # Log metrics to TensorBoard\n",
    "# with tf.summary.create_file_writer(log_dir).as_default():\n",
    "#     tf.summary.scalar('MAE_train_svr', mae_train_svr, step=1)\n",
    "#     tf.summary.scalar('MAE_test', mae_test_svr, step=1)\n",
    "\n",
    "# mse_train_svr = mean_squared_error(y_train, y_pred_train_svr)\n",
    "# mse_test_svr = mean_squared_error(y_test, y_pred_test_svr)\n",
    "\n",
    "# print(f\"Train mse: {mse_train_svr:.2f}\")\n",
    "# print(f\"Test mse: {mse_test_svr:.2f}\")\n",
    "# # Log metrics to TensorBoard\n",
    "# with tf.summary.create_file_writer(log_dir).as_default():\n",
    "#     tf.summary.scalar('mse_train_svr', mse_train_svr, step=1)\n",
    "#     tf.summary.scalar('mse_test', mse_test_svr, step=1)\n"
   ]
  },
  {
   "cell_type": "code",
   "execution_count": 200,
   "metadata": {},
   "outputs": [
    {
     "name": "stdout",
     "output_type": "stream",
     "text": [
      "Train MAE: 504318421433.57\n",
      "Test MAE: 16991716251.10\n",
      "Train mse: 71738037284497668901437440.00\n",
      "Test mse: 127262188371878275448832.00\n"
     ]
    }
   ],
   "source": [
    "# svr_model = SVR(kernel=\"sigmoid\")\n",
    "# svr_model.fit(X_train, y_train)\n",
    "\n",
    "# y_pred_train_svr = svr_model.predict(X_train)\n",
    "# y_pred_test_svr = svr_model.predict(X_test)\n",
    "\n",
    "# mae_train_svr = mean_absolute_error(y_train, y_pred_train_svr)\n",
    "# mae_test_svr = mean_absolute_error(y_test, y_pred_test_svr)\n",
    "\n",
    "# print(f\"Train MAE: {mae_train_svr:.2f}\")\n",
    "# print(f\"Test MAE: {mae_test_svr:.2f}\")\n",
    "# # Log metrics to TensorBoard\n",
    "# with tf.summary.create_file_writer(log_dir).as_default():\n",
    "#     tf.summary.scalar('MAE_train_svr', mae_train_svr, step=1)\n",
    "#     tf.summary.scalar('MAE_test', mae_test_svr, step=1)\n",
    "\n",
    "# mse_train_svr = mean_squared_error(y_train, y_pred_train_svr)\n",
    "# mse_test_svr = mean_squared_error(y_test, y_pred_test_svr)\n",
    "\n",
    "# print(f\"Train mse: {mse_train_svr:.2f}\")\n",
    "# print(f\"Test mse: {mse_test_svr:.2f}\")\n",
    "# # Log metrics to TensorBoard\n",
    "# with tf.summary.create_file_writer(log_dir).as_default():\n",
    "#     tf.summary.scalar('mse_train_svr', mse_train_svr, step=1)\n",
    "#     tf.summary.scalar('mse_test', mse_test_svr, step=1)\n"
   ]
  }
 ],
 "metadata": {
  "kernelspec": {
   "display_name": "Python 3",
   "language": "python",
   "name": "python3"
  },
  "language_info": {
   "codemirror_mode": {
    "name": "ipython",
    "version": 3
   },
   "file_extension": ".py",
   "mimetype": "text/x-python",
   "name": "python",
   "nbconvert_exporter": "python",
   "pygments_lexer": "ipython3",
   "version": "3.11.2"
  },
  "orig_nbformat": 4
 },
 "nbformat": 4,
 "nbformat_minor": 2
}
